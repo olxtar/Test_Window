{
 "cells": [
  {
   "cell_type": "code",
   "execution_count": 1,
   "id": "9da3f6a0",
   "metadata": {},
   "outputs": [
    {
     "name": "stdout",
     "output_type": "stream",
     "text": [
      "Initialized empty Git repository in C:/Users/USER/Desktop/github_repository/.git/\n"
     ]
    },
    {
     "name": "stderr",
     "output_type": "stream",
     "text": [
      "hint: Using 'master' as the name for the initial branch. This default branch name\n",
      "hint: is subject to change. To configure the initial branch name to use in all\n",
      "hint: of your new repositories, which will suppress this warning, call:\n",
      "hint: \n",
      "hint: \tgit config --global init.defaultBranch <name>\n",
      "hint: \n",
      "hint: Names commonly chosen instead of 'master' are 'main', 'trunk' and\n",
      "hint: 'development'. The just-created branch can be renamed via this command:\n",
      "hint: \n",
      "hint: \tgit branch -m <name>\n"
     ]
    }
   ],
   "source": [
    "!git init"
   ]
  },
  {
   "cell_type": "code",
   "execution_count": 2,
   "id": "5892cb68",
   "metadata": {},
   "outputs": [
    {
     "name": "stderr",
     "output_type": "stream",
     "text": [
      "usage: git config [<options>]\n",
      "\n",
      "Config file location\n",
      "    --global              use global config file\n",
      "    --system              use system config file\n",
      "    --local               use repository config file\n",
      "    --worktree            use per-worktree config file\n",
      "    -f, --file <file>     use given config file\n",
      "    --blob <blob-id>      read config from given blob object\n",
      "\n",
      "Action\n",
      "    --get                 get value: name [value-pattern]\n",
      "    --get-all             get all values: key [value-pattern]\n",
      "    --get-regexp          get values for regexp: name-regex [value-pattern]\n",
      "    --get-urlmatch        get value specific for the URL: section[.var] URL\n",
      "    --replace-all         replace all matching variables: name value [value-pattern]\n",
      "    --add                 add a new variable: name value\n",
      "    --unset               remove a variable: name [value-pattern]\n",
      "    --unset-all           remove all matches: name [value-pattern]\n",
      "    --rename-section      rename section: old-name new-name\n",
      "    --remove-section      remove a section: name\n",
      "    -l, --list            list all\n",
      "    --fixed-value         use string equality when comparing values to 'value-pattern'\n",
      "    -e, --edit            open an editor\n",
      "    --get-color           find the color configured: slot [default]\n",
      "    --get-colorbool       find the color setting: slot [stdout-is-tty]\n",
      "\n",
      "Type\n",
      "    -t, --type <>         value is given this type\n",
      "    --bool                value is \"true\" or \"false\"\n",
      "    --int                 value is decimal number\n",
      "    --bool-or-int         value is --bool or --int\n",
      "    --bool-or-str         value is --bool or string\n",
      "    --path                value is a path (file or directory name)\n",
      "    --expiry-date         value is an expiry date\n",
      "\n",
      "Other\n",
      "    -z, --null            terminate values with NUL byte\n",
      "    --name-only           show variable names only\n",
      "    --includes            respect include directives on lookup\n",
      "    --show-origin         show origin of config (file, standard input, blob, command line)\n",
      "    --show-scope          show scope of config (worktree, local, global, system, command)\n",
      "    --default <value>     with --get, use default value when missing entry\n",
      "\n"
     ]
    }
   ],
   "source": [
    "!git config"
   ]
  },
  {
   "cell_type": "code",
   "execution_count": 4,
   "id": "e5934345",
   "metadata": {},
   "outputs": [
    {
     "name": "stdout",
     "output_type": "stream",
     "text": [
      "On branch master\n",
      "\n",
      "Initial commit\n",
      "\n",
      "Untracked files:\n",
      "  (use \"git add <file>...\" to include in what will be committed)\n",
      "\t.ipynb_checkpoints/\n",
      "\tgithub_repository_test.ipynb\n",
      "\n",
      "nothing added to commit but untracked files present (use \"git add\" to track)\n"
     ]
    }
   ],
   "source": [
    "!git commit -m \"first_commit\""
   ]
  },
  {
   "cell_type": "code",
   "execution_count": 5,
   "id": "aa10417a",
   "metadata": {},
   "outputs": [],
   "source": [
    "!git branch -M main"
   ]
  },
  {
   "cell_type": "code",
   "execution_count": 8,
   "id": "5f00cd24",
   "metadata": {},
   "outputs": [],
   "source": [
    "!git remote add origin https://github.com/olxtar/Test_Window.git"
   ]
  },
  {
   "cell_type": "markdown",
   "id": "a7e8236a",
   "metadata": {},
   "source": [
    "여기까지는 No Error"
   ]
  },
  {
   "cell_type": "code",
   "execution_count": 9,
   "id": "9c250a9e",
   "metadata": {},
   "outputs": [
    {
     "name": "stderr",
     "output_type": "stream",
     "text": [
      "error: src refspec main does not match any\n",
      "error: failed to push some refs to 'https://github.com/olxtar/Test_Window.git'\n"
     ]
    }
   ],
   "source": [
    "!git push -u origin main"
   ]
  },
  {
   "cell_type": "markdown",
   "id": "034bf473",
   "metadata": {},
   "source": [
    "위의 에러는 깃허브에서 pull없이 push할 경우 기존 내용을 삭제하거나 할 수 있어서 그럼\n",
    "이럴때 아래의 명령어들을 입력해보자"
   ]
  },
  {
   "cell_type": "code",
   "execution_count": 11,
   "id": "419435cf",
   "metadata": {},
   "outputs": [
    {
     "name": "stdout",
     "output_type": "stream",
     "text": [
      "Reinitialized existing Git repository in C:/Users/USER/Desktop/github_repository/.git/\n"
     ]
    }
   ],
   "source": [
    "!git init"
   ]
  },
  {
   "cell_type": "code",
   "execution_count": null,
   "id": "f082fa76",
   "metadata": {},
   "outputs": [],
   "source": []
  }
 ],
 "metadata": {
  "kernelspec": {
   "display_name": "Python 3 (ipykernel)",
   "language": "python",
   "name": "python3"
  },
  "language_info": {
   "codemirror_mode": {
    "name": "ipython",
    "version": 3
   },
   "file_extension": ".py",
   "mimetype": "text/x-python",
   "name": "python",
   "nbconvert_exporter": "python",
   "pygments_lexer": "ipython3",
   "version": "3.9.7"
  }
 },
 "nbformat": 4,
 "nbformat_minor": 5
}
