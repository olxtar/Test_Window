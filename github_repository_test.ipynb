{
 "cells": [
  {
   "cell_type": "code",
   "execution_count": 1,
   "id": "9fa3ac9a",
   "metadata": {},
   "outputs": [
    {
     "name": "stdout",
     "output_type": "stream",
     "text": [
      "Reinitialized existing Git repository in C:/Users/USER/Desktop/github_repository/.git/\n"
     ]
    }
   ],
   "source": [
    "!git init"
   ]
  },
  {
   "cell_type": "code",
   "execution_count": 2,
   "id": "0a9de4f2",
   "metadata": {},
   "outputs": [
    {
     "name": "stdout",
     "output_type": "stream",
     "text": [
      "core.symlinks=false\n",
      "core.autocrlf=true\n",
      "core.fscache=true\n",
      "color.diff=auto\n",
      "color.status=auto\n",
      "color.branch=auto\n",
      "color.interactive=true\n",
      "pack.packsizelimit=2g\n",
      "help.format=html\n",
      "diff.astextplain.textconv=astextplain\n",
      "rebase.autosquash=true\n",
      "filter.lfs.clean=git-lfs clean -- %f\n",
      "filter.lfs.smudge=git-lfs smudge -- %f\n",
      "filter.lfs.process=git-lfs filter-process\n",
      "filter.lfs.required=true\n",
      "credential.helper=manager-core\n",
      "http.sslbackend=schannel\n",
      "http.schannelusesslcainfo=false\n",
      "filter.lfs.process=git-lfs filter-process\n",
      "filter.lfs.required=true\n",
      "filter.lfs.clean=git-lfs clean -- %f\n",
      "filter.lfs.smudge=git-lfs smudge -- %f\n",
      "user.name=olxtar\n",
      "user.email=ehk4898@gmail.com\n",
      "core.autocrlf=True\n",
      "core.repositoryformatversion=0\n",
      "core.filemode=false\n",
      "core.bare=false\n",
      "core.logallrefupdates=true\n",
      "core.symlinks=false\n",
      "core.ignorecase=true\n",
      "remote.origin.url=https://github.com/olxtar/Test_Window.git\n",
      "remote.origin.fetch=+refs/heads/*:refs/remotes/origin/*\n"
     ]
    }
   ],
   "source": [
    "# !git config -l\n",
    "!git config -l"
   ]
  },
  {
   "cell_type": "code",
   "execution_count": 15,
   "id": "de631a3c",
   "metadata": {},
   "outputs": [],
   "source": [
    "!git config --global user.email \"ehk4898@gmail.com\"\n",
    "!git config --global user.name \"olxtar\"\n"
   ]
  },
  {
   "cell_type": "code",
   "execution_count": 18,
   "id": "d6ccbca9",
   "metadata": {},
   "outputs": [
    {
     "name": "stdout",
     "output_type": "stream",
     "text": [
      "Reinitialized existing Git repository in C:/Users/USER/Desktop/github_repository/.git/\n"
     ]
    }
   ],
   "source": [
    "!git init"
   ]
  },
  {
   "cell_type": "code",
   "execution_count": 4,
   "id": "342caa45",
   "metadata": {},
   "outputs": [],
   "source": [
    "!git config --global core.autocrlf True"
   ]
  },
  {
   "cell_type": "code",
   "execution_count": 5,
   "id": "30bd2e55",
   "metadata": {},
   "outputs": [],
   "source": [
    "!git add ."
   ]
  },
  {
   "cell_type": "code",
   "execution_count": 6,
   "id": "39d20ca1",
   "metadata": {},
   "outputs": [
    {
     "name": "stdout",
     "output_type": "stream",
     "text": [
      "['main_' eb84869] new readme file\n",
      " 1 file changed, 143 insertions(+), 7 deletions(-)\n"
     ]
    }
   ],
   "source": [
    "!git commit -m \"new readme file\""
   ]
  },
  {
   "cell_type": "code",
   "execution_count": 17,
   "id": "ee1b1cb8",
   "metadata": {},
   "outputs": [
    {
     "name": "stderr",
     "output_type": "stream",
     "text": [
      "error: remote origin already exists.\n"
     ]
    }
   ],
   "source": [
    "!git remote add origin https://github.com/olxtar/Test_Window.git\n"
   ]
  },
  {
   "cell_type": "code",
   "execution_count": 22,
   "id": "89b1c1f3",
   "metadata": {},
   "outputs": [
    {
     "name": "stdout",
     "output_type": "stream",
     "text": [
      "branch 'main' set up to track 'origin/main'.\n"
     ]
    },
    {
     "name": "stderr",
     "output_type": "stream",
     "text": [
      "Everything up-to-date\n"
     ]
    }
   ],
   "source": [
    "!git push -u origin main"
   ]
  },
  {
   "cell_type": "code",
   "execution_count": null,
   "id": "822ac159",
   "metadata": {},
   "outputs": [],
   "source": []
  },
  {
   "cell_type": "code",
   "execution_count": null,
   "id": "1d35ca5a",
   "metadata": {},
   "outputs": [],
   "source": []
  },
  {
   "cell_type": "code",
   "execution_count": null,
   "id": "8aca13d4",
   "metadata": {},
   "outputs": [],
   "source": []
  },
  {
   "cell_type": "code",
   "execution_count": 19,
   "id": "ffd8a8d0",
   "metadata": {},
   "outputs": [],
   "source": [
    "!git config --global core.autocrlf True"
   ]
  },
  {
   "cell_type": "code",
   "execution_count": 20,
   "id": "a4d4fac3",
   "metadata": {},
   "outputs": [],
   "source": [
    "!git add ."
   ]
  },
  {
   "cell_type": "code",
   "execution_count": 21,
   "id": "c7f2d06b",
   "metadata": {},
   "outputs": [
    {
     "name": "stdout",
     "output_type": "stream",
     "text": [
      "['main_' 9bf90c8] second_commit\n",
      " 1 file changed, 32 insertions(+), 11 deletions(-)\n"
     ]
    }
   ],
   "source": [
    "!git commit -m \"second_commit\""
   ]
  },
  {
   "cell_type": "code",
   "execution_count": 16,
   "id": "af51f1f1",
   "metadata": {},
   "outputs": [
    {
     "name": "stdout",
     "output_type": "stream",
     "text": [
      "branch 'main' set up to track 'origin/main'.\n"
     ]
    },
    {
     "name": "stderr",
     "output_type": "stream",
     "text": [
      "Everything up-to-date\n"
     ]
    }
   ],
   "source": [
    "!git push -u origin main"
   ]
  },
  {
   "cell_type": "code",
   "execution_count": 10,
   "id": "cc509e1b",
   "metadata": {},
   "outputs": [],
   "source": [
    "!git branch -M main"
   ]
  },
  {
   "cell_type": "code",
   "execution_count": 3,
   "id": "03024751",
   "metadata": {},
   "outputs": [
    {
     "name": "stderr",
     "output_type": "stream",
     "text": [
      "error: remote origin already exists.\n"
     ]
    }
   ],
   "source": [
    "!git remote add origin https://github.com/olxtar/Test_Window.git"
   ]
  },
  {
   "cell_type": "markdown",
   "id": "81b84ad4",
   "metadata": {},
   "source": [
    "여기까지는 No Error"
   ]
  },
  {
   "cell_type": "markdown",
   "id": "354cdb1b",
   "metadata": {},
   "source": [
    "위의 에러는 깃허브에서 pull없이 push할 경우 기존 내용을 삭제하거나 할 수 있어서 그럼\n",
    "이럴때 아래의 명령어들을 입력해보자"
   ]
  },
  {
   "cell_type": "code",
   "execution_count": null,
   "id": "f39ea6c2",
   "metadata": {},
   "outputs": [],
   "source": []
  }
 ],
 "metadata": {
  "kernelspec": {
   "display_name": "Python 3 (ipykernel)",
   "language": "python",
   "name": "python3"
  },
  "language_info": {
   "codemirror_mode": {
    "name": "ipython",
    "version": 3
   },
   "file_extension": ".py",
   "mimetype": "text/x-python",
   "name": "python",
   "nbconvert_exporter": "python",
   "pygments_lexer": "ipython3",
   "version": "3.9.7"
  }
 },
 "nbformat": 4,
 "nbformat_minor": 5
}
